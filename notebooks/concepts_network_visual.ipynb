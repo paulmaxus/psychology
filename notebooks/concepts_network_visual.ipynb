{
 "cells": [
  {
   "cell_type": "code",
   "execution_count": 1,
   "metadata": {
    "pycharm": {
     "name": "#%%\n"
    }
   },
   "outputs": [],
   "source": [
    "import pandas as pd\n",
    "import networkx as nx\n",
    "import matplotlib.pyplot as plt\n",
    "import config"
   ]
  },
  {
   "cell_type": "markdown",
   "metadata": {
    "pycharm": {
     "name": "#%% md\n"
    }
   },
   "source": [
    "- use a seed to keep the same layout for each university\n",
    "- change the color coding for each university (heatmap) without changing the layout\n",
    "- save the images to a dedicated folder which is pushed to bitbucket\n",
    "- create a table pointing to the images by url"
   ]
  },
  {
   "cell_type": "code",
   "execution_count": 2,
   "metadata": {
    "pycharm": {
     "name": "#%%\n"
    }
   },
   "outputs": [],
   "source": [
    "concepts_relations = pd.read_csv('../data/concepts_relations.csv')\n",
    "works_count = pd.read_csv('../data/works_count.csv', index_col='concept.id')"
   ]
  },
  {
   "cell_type": "code",
   "execution_count": 3,
   "metadata": {},
   "outputs": [
    {
     "data": {
      "text/plain": "217"
     },
     "execution_count": 3,
     "metadata": {},
     "output_type": "execute_result"
    }
   ],
   "source": [
    "len(concepts_relations)"
   ]
  },
  {
   "cell_type": "code",
   "execution_count": 4,
   "metadata": {
    "pycharm": {
     "name": "#%%\n"
    }
   },
   "outputs": [],
   "source": [
    "# needed for labels and color coding\n",
    "concepts_hierarchy = pd.read_csv('../openalex_concepts_hierarchy.csv')\n",
    "concepts_hierarchy_1  = concepts_hierarchy.copy()[concepts_hierarchy.level==1]"
   ]
  },
  {
   "cell_type": "code",
   "execution_count": 5,
   "metadata": {
    "pycharm": {
     "name": "#%%\n"
    }
   },
   "outputs": [],
   "source": [
    "# color coding: range from 0 to 1 with -1 for level 1 concepts, 0 for count == 0\n",
    "def get_color_code(concept_id, works_count):\n",
    "    try:\n",
    "        code = works_count.loc[concept_id,'count'] / works_count['count'].max()\n",
    "    except KeyError:\n",
    "        if concept_id in concepts_hierarchy_1.openalex_id.values:\n",
    "            code = -1\n",
    "        else:\n",
    "            code = 0\n",
    "    return code\n",
    "\n",
    "# size coding\n",
    "def get_size(concept_id, works_count):\n",
    "    try:\n",
    "        size = works_count.loc[concept_id,'count'] / works_count['count'].max()\n",
    "    except KeyError:\n",
    "        if concept_id in concepts_hierarchy_1.openalex_id.values:\n",
    "            size = 1\n",
    "        else:\n",
    "            size = 0\n",
    "    return size*500"
   ]
  },
  {
   "cell_type": "code",
   "execution_count": 6,
   "metadata": {},
   "outputs": [],
   "source": [
    "# needed for labels: topN \n",
    "# only the topN and level 1 concepts get labels\n",
    "n = 25\n",
    "topN = concepts_relations.drop_duplicates('id').sort_values('works_count', ascending=False)[:n]"
   ]
  },
  {
   "cell_type": "code",
   "execution_count": 8,
   "metadata": {
    "pycharm": {
     "name": "#%%\n"
    }
   },
   "outputs": [],
   "source": [
    "G = nx.Graph()\n",
    "\n",
    "labels = {}\n",
    "label_count = 0\n",
    "for index, row in concepts_relations.iterrows():\n",
    "    G.add_edge(row['id'], row['rel_id'])\n",
    "    for concept_id in [row['id'], row['rel_id']]:\n",
    "        if concept_id not in labels:\n",
    "            if (concept_id in topN.id.values) | (concept_id in concepts_hierarchy_1['openalex_id'].values):\n",
    "                labels[concept_id] = \\\n",
    "                    concepts_hierarchy[concepts_hierarchy.openalex_id==concept_id]['display_name'].iloc[0]\n",
    "            else:\n",
    "                labels[concept_id] = ''#label_count\n",
    "                label_count += 1\n",
    "\n",
    "pos = nx.spring_layout(G, seed=97615) # 97615\n",
    "\n",
    "# draw separate plot for each university\n",
    "# anonymise image, but keep track of uni - url association\n",
    "counter = 1\n",
    "network_images = []\n",
    "for uni in works_count.university.unique():\n",
    "\n",
    "    fig = plt.figure(figsize=(15, 10))\n",
    "    ax = plt.axes()\n",
    "    \n",
    "    nx.draw_networkx_nodes(G, pos, ax=ax,\n",
    "                           node_color=[get_color_code(n, works_count[works_count.university==uni]) for n in pos], \n",
    "                           cmap='seismic', alpha=0.5,\n",
    "                           node_size=[get_size(n, works_count[works_count.university==uni]) for n in pos])\n",
    "    nx.draw_networkx_edges(G, pos, ax=ax, alpha=0.1)\n",
    "    nx.draw_networkx_labels(G, pos, ax=ax, font_size=10, labels=labels)\n",
    "\n",
    "    #plt.legend()\n",
    "    plt.tight_layout()\n",
    "    plt.savefig(f\"../images/network{counter}.png\", format=\"PNG\")\n",
    "    plt.close()\n",
    "    network_images.append({'university': uni, 'url': f'{config.project_url}/images/network{counter}.png'})\n",
    "    counter += 1\n",
    "pd.DataFrame(network_images).to_csv(f'{config.project_path}/tables/network_images.csv', index=False)"
   ]
  },
  {
   "cell_type": "code",
   "execution_count": 7,
   "metadata": {
    "pycharm": {
     "name": "#%%\n"
    }
   },
   "outputs": [],
   "source": []
  }
 ],
 "metadata": {
  "kernelspec": {
   "display_name": "Python 3 (ipykernel)",
   "language": "python",
   "name": "python3"
  },
  "language_info": {
   "codemirror_mode": {
    "name": "ipython",
    "version": 3
   },
   "file_extension": ".py",
   "mimetype": "text/x-python",
   "name": "python",
   "nbconvert_exporter": "python",
   "pygments_lexer": "ipython3",
   "version": "3.9.2"
  }
 },
 "nbformat": 4,
 "nbformat_minor": 1
}