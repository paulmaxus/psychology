{
 "cells": [
  {
   "cell_type": "code",
   "execution_count": 1,
   "metadata": {
    "collapsed": true
   },
   "outputs": [],
   "source": [
    "import requests\n",
    "import json\n",
    "import pandas as pd\n",
    "import config"
   ]
  },
  {
   "cell_type": "code",
   "execution_count": 2,
   "outputs": [],
   "source": [
    "pubs = pd.read_csv(f'{config.project_path}/tables/topics_publications.csv')"
   ],
   "metadata": {
    "collapsed": false,
    "pycharm": {
     "name": "#%%\n"
    }
   }
  },
  {
   "cell_type": "code",
   "execution_count": 3,
   "outputs": [],
   "source": [
    "topics = pubs.drop_duplicates('Topic number')[['Topic number', 'Topic name',\n",
    "                                               'Topic Cluster number', 'Topic Cluster name']]"
   ],
   "metadata": {
    "collapsed": false,
    "pycharm": {
     "name": "#%%\n"
    }
   }
  },
  {
   "cell_type": "code",
   "execution_count": 4,
   "outputs": [],
   "source": [
    "topics = topics[~pd.isna(topics['Topic number'])]"
   ],
   "metadata": {
    "collapsed": false,
    "pycharm": {
     "name": "#%%\n"
    }
   }
  },
  {
   "cell_type": "code",
   "execution_count": 5,
   "outputs": [],
   "source": [
    "topics.loc[:, 'Topic number'] = topics['Topic number'].astype(int)"
   ],
   "metadata": {
    "collapsed": false,
    "pycharm": {
     "name": "#%%\n"
    }
   }
  },
  {
   "cell_type": "code",
   "execution_count": 6,
   "outputs": [],
   "source": [
    "relations = {}"
   ],
   "metadata": {
    "collapsed": false,
    "pycharm": {
     "name": "#%%\n"
    }
   }
  },
  {
   "cell_type": "code",
   "execution_count": 8,
   "outputs": [],
   "source": [
    "base_url = 'https://api.elsevier.com/analytics/scival/topic/metrics'\n",
    "for topic_id in topics['Topic number']:\n",
    "    params = {'topicIds': topic_id,\n",
    "              'metricTypes': 'relatedTopics',\n",
    "              'insttoken': config.elsevier_instkey,\n",
    "              'apiKey': config.elsevier_apikey}\n",
    "    headers = {'Accept': 'application/json'}\n",
    "    result = requests.get(base_url, params=params, headers=headers)\n",
    "    if result.status_code == 200:\n",
    "        relations[int(topic_id)] = result.json()"
   ],
   "metadata": {
    "collapsed": false,
    "pycharm": {
     "name": "#%%\n"
    }
   }
  },
  {
   "cell_type": "code",
   "execution_count": 11,
   "outputs": [],
   "source": [
    "# temp storage\n",
    "with open('data/relations.json', 'w') as f:\n",
    "    f.write(json.dumps(relations))"
   ],
   "metadata": {
    "collapsed": false,
    "pycharm": {
     "name": "#%%\n"
    }
   }
  },
  {
   "cell_type": "code",
   "execution_count": 14,
   "outputs": [],
   "source": [
    "relation_scores = {}\n",
    "for topic_id in relations:\n",
    "    relation = relations[topic_id]\n",
    "    for related_topic in relation['results'][0]['metrics'][0]['values']:\n",
    "        related_topic_id = related_topic['topic']['id']\n",
    "        score = related_topic['relationScore']\n",
    "        if topic_id not in relation_scores:\n",
    "            relation_scores[topic_id] = {}\n",
    "        relation_scores[topic_id][related_topic_id] = score"
   ],
   "metadata": {
    "collapsed": false,
    "pycharm": {
     "name": "#%%\n"
    }
   }
  },
  {
   "cell_type": "code",
   "execution_count": 18,
   "outputs": [],
   "source": [
    "# are the topics in our set also related?\n",
    "relatedness = []\n",
    "for topic_id in topics['Topic number']:\n",
    "    for related_topic_id in topics['Topic number']:\n",
    "        if related_topic_id in relation_scores[topic_id]:\n",
    "            relatedness.append({'topic_id': topic_id,\n",
    "                                'related_topic_id': related_topic_id,\n",
    "                                'topic_name': topics[topics['Topic number']==topic_id]['Topic name'].iloc[0],\n",
    "                                'related_topic_name': topics[topics['Topic number']==related_topic_id]['Topic name'].iloc[0],\n",
    "                                'score': relation_scores[topic_id][related_topic_id]})"
   ],
   "metadata": {
    "collapsed": false,
    "pycharm": {
     "name": "#%%\n"
    }
   }
  },
  {
   "cell_type": "code",
   "execution_count": 19,
   "outputs": [],
   "source": [
    "df = pd.DataFrame(relatedness)"
   ],
   "metadata": {
    "collapsed": false,
    "pycharm": {
     "name": "#%%\n"
    }
   }
  },
  {
   "cell_type": "code",
   "execution_count": 21,
   "outputs": [],
   "source": [
    "df.to_csv(f'{config.project_path}/relations.csv', index=False)"
   ],
   "metadata": {
    "collapsed": false,
    "pycharm": {
     "name": "#%%\n"
    }
   }
  }
 ],
 "metadata": {
  "kernelspec": {
   "display_name": "Python 3",
   "language": "python",
   "name": "python3"
  },
  "language_info": {
   "codemirror_mode": {
    "name": "ipython",
    "version": 2
   },
   "file_extension": ".py",
   "mimetype": "text/x-python",
   "name": "python",
   "nbconvert_exporter": "python",
   "pygments_lexer": "ipython2",
   "version": "2.7.6"
  }
 },
 "nbformat": 4,
 "nbformat_minor": 0
}