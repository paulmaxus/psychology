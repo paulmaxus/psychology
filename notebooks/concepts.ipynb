{
 "cells": [
  {
   "cell_type": "code",
   "execution_count": 2,
   "metadata": {
    "collapsed": true
   },
   "outputs": [],
   "source": [
    "import pandas as pd\n",
    "import json\n",
    "import config\n",
    "import glob\n",
    "import gzip"
   ]
  },
  {
   "cell_type": "markdown",
   "source": [
    "- for all (level 2) concepts, get related concepts\n",
    "- then filter out the ones that are not part of our works set"
   ],
   "metadata": {
    "collapsed": false,
    "pycharm": {
     "name": "#%% md\n"
    }
   }
  },
  {
   "cell_type": "code",
   "execution_count": 3,
   "outputs": [],
   "source": [
    "with open('../works.json', 'r') as f:\n",
    "    df = pd.DataFrame(json.loads(f.read()))"
   ],
   "metadata": {
    "collapsed": false,
    "pycharm": {
     "name": "#%%\n"
    }
   }
  },
  {
   "cell_type": "code",
   "execution_count": 4,
   "outputs": [],
   "source": [
    "concepts = pd.json_normalize(df['concepts'].explode())"
   ],
   "metadata": {
    "collapsed": false,
    "pycharm": {
     "name": "#%%\n"
    }
   }
  },
  {
   "cell_type": "code",
   "execution_count": 5,
   "outputs": [],
   "source": [
    "# only level 2 concepts with grandparent psychology\n",
    "concepts_2 = concepts.copy()[concepts.level==2]"
   ],
   "metadata": {
    "collapsed": false,
    "pycharm": {
     "name": "#%%\n"
    }
   }
  },
  {
   "cell_type": "code",
   "execution_count": 6,
   "outputs": [],
   "source": [
    "concepts_hierarchy = pd.read_csv('../openalex_concepts_hierarchy.csv')\n",
    "# concept ids are lowercase, parent ids not\n",
    "concepts_hierarchy['parent_ids'] = concepts_hierarchy['parent_ids'].str.lower()"
   ],
   "metadata": {
    "collapsed": false,
    "pycharm": {
     "name": "#%%\n"
    }
   }
  },
  {
   "cell_type": "code",
   "execution_count": 7,
   "outputs": [],
   "source": [
    "psych_id = concepts_hierarchy[concepts_hierarchy.display_name=='Psychology']['openalex_id'].iloc[0]\n",
    "psych_children = concepts_hierarchy[concepts_hierarchy.parent_ids.str.find(psych_id) > -1]"
   ],
   "metadata": {
    "collapsed": false,
    "pycharm": {
     "name": "#%%\n"
    }
   }
  },
  {
   "cell_type": "code",
   "execution_count": 8,
   "outputs": [],
   "source": [
    "concepts_hierarchy_2 = concepts_hierarchy.copy()[concepts_hierarchy.level==2]\n",
    "concepts_hierarchy_2[['parent_display_names', 'parent_ids']] = \\\n",
    "    concepts_hierarchy_2[['parent_display_names', 'parent_ids']].apply(lambda x: x.str.split(', '))\n",
    "concepts_hierarchy_2 = concepts_hierarchy_2.explode(['parent_display_names', 'parent_ids'])"
   ],
   "metadata": {
    "collapsed": false,
    "pycharm": {
     "name": "#%%\n"
    }
   }
  },
  {
   "cell_type": "code",
   "execution_count": 9,
   "outputs": [],
   "source": [
    "concepts_hierarchy_psych = concepts_hierarchy_2.copy()[concepts_hierarchy_2.parent_ids.isin(psych_children.openalex_id)]"
   ],
   "metadata": {
    "collapsed": false,
    "pycharm": {
     "name": "#%%\n"
    }
   }
  },
  {
   "cell_type": "code",
   "execution_count": 10,
   "outputs": [],
   "source": [
    "concepts_2['id'] = concepts_2['id'].str.lower()\n",
    "concepts_2 = concepts_2[concepts_2.id.isin(concepts_hierarchy_psych.openalex_id)]"
   ],
   "metadata": {
    "collapsed": false,
    "pycharm": {
     "name": "#%%\n"
    }
   }
  },
  {
   "cell_type": "code",
   "execution_count": 11,
   "outputs": [
    {
     "data": {
      "text/plain": "<AxesSubplot:>"
     },
     "execution_count": 11,
     "metadata": {},
     "output_type": "execute_result"
    },
    {
     "data": {
      "text/plain": "<Figure size 640x480 with 1 Axes>",
      "image/png": "[encoded data removed]"
     },
     "metadata": {},
     "output_type": "display_data"
    }
   ],
   "source": [
    "# count how often each concept appears in the publication set\n",
    "# then filter using a cutoff\n",
    "counts = concepts_2.value_counts('id')\n",
    "counts.plot(kind='box')"
   ],
   "metadata": {
    "collapsed": false,
    "pycharm": {
     "name": "#%%\n"
    }
   }
  },
  {
   "cell_type": "code",
   "execution_count": 12,
   "outputs": [
    {
     "name": "stdout",
     "output_type": "stream",
     "text": [
      "860\n",
      "0.05813953488372093\n"
     ]
    }
   ],
   "source": [
    "# which cutoff should we pick? visualise ~ 150 nodes?\n",
    "n_nodes = 50\n",
    "print(len(counts))\n",
    "print(n_nodes/len(counts))"
   ],
   "metadata": {
    "collapsed": false,
    "pycharm": {
     "name": "#%%\n"
    }
   }
  },
  {
   "cell_type": "code",
   "execution_count": 13,
   "outputs": [
    {
     "name": "stdout",
     "output_type": "stream",
     "text": [
      "26.058139534883708\n"
     ]
    }
   ],
   "source": [
    "cutoff = counts.quantile(1-(n_nodes/len(counts)))\n",
    "print(cutoff)"
   ],
   "metadata": {
    "collapsed": false,
    "pycharm": {
     "name": "#%%\n"
    }
   }
  },
  {
   "cell_type": "code",
   "execution_count": 14,
   "outputs": [],
   "source": [
    "concepts_2['works_count'] = concepts_2.groupby(['id']).id.transform('size')"
   ],
   "metadata": {
    "collapsed": false,
    "pycharm": {
     "name": "#%%\n"
    }
   }
  },
  {
   "cell_type": "code",
   "execution_count": 15,
   "outputs": [],
   "source": [
    "concepts_2 = concepts_2.drop_duplicates('id', keep='first')"
   ],
   "metadata": {
    "collapsed": false,
    "pycharm": {
     "name": "#%%\n"
    }
   }
  },
  {
   "cell_type": "code",
   "execution_count": 16,
   "outputs": [
    {
     "name": "stdout",
     "output_type": "stream",
     "text": [
      "50\n"
     ]
    }
   ],
   "source": [
    "# how many are those?\n",
    "print(len(concepts_2[concepts_2.works_count > cutoff]))"
   ],
   "metadata": {
    "collapsed": false,
    "pycharm": {
     "name": "#%%\n"
    }
   }
  },
  {
   "cell_type": "code",
   "execution_count": 17,
   "outputs": [],
   "source": [
    "concepts_2 = concepts_2[concepts_2.works_count > cutoff]"
   ],
   "metadata": {
    "collapsed": false,
    "pycharm": {
     "name": "#%%\n"
    }
   }
  },
  {
   "cell_type": "code",
   "execution_count": 18,
   "outputs": [],
   "source": [
    "# save counts for plotting\n",
    "counts.to_csv('../data/works_count.csv')"
   ],
   "metadata": {
    "collapsed": false,
    "pycharm": {
     "name": "#%%\n"
    }
   }
  },
  {
   "cell_type": "code",
   "execution_count": 19,
   "outputs": [],
   "source": [
    "# get concepts from data snapshot\n",
    "concepts_meta = []\n",
    "for filename in glob.glob(f'{config.project_path}/openalex-snapshot-concepts/**/*.gz', recursive=True):\n",
    "    with gzip.open(filename, 'rb') as f:\n",
    "        for line in f:\n",
    "            concepts_meta.append(json.loads(line))"
   ],
   "metadata": {
    "collapsed": false,
    "pycharm": {
     "name": "#%%\n"
    }
   }
  },
  {
   "cell_type": "code",
   "execution_count": 20,
   "outputs": [
    {
     "data": {
      "text/plain": "65073"
     },
     "execution_count": 20,
     "metadata": {},
     "output_type": "execute_result"
    }
   ],
   "source": [
    "len(concepts_meta)  # that's the exact amount that is stated on https://api.openalex.org/concepts"
   ],
   "metadata": {
    "collapsed": false,
    "pycharm": {
     "name": "#%%\n"
    }
   }
  },
  {
   "cell_type": "code",
   "execution_count": 21,
   "outputs": [],
   "source": [
    "concepts_meta_df = pd.DataFrame(concepts_meta)[['id', 'related_concepts']]\n",
    "concepts_meta_df['id'] = concepts_meta_df['id'].str.lower()"
   ],
   "metadata": {
    "collapsed": false,
    "pycharm": {
     "name": "#%%\n"
    }
   }
  },
  {
   "cell_type": "code",
   "execution_count": 22,
   "outputs": [],
   "source": [
    "concepts_2 = concepts_2.merge(concepts_meta_df, how='left', on='id')"
   ],
   "metadata": {
    "collapsed": false,
    "pycharm": {
     "name": "#%%\n"
    }
   }
  },
  {
   "cell_type": "code",
   "execution_count": 23,
   "outputs": [],
   "source": [
    "concepts_2_relations = concepts_2.copy().explode('related_concepts').reset_index(drop=True)"
   ],
   "metadata": {
    "collapsed": false,
    "pycharm": {
     "name": "#%%\n"
    }
   }
  },
  {
   "cell_type": "code",
   "execution_count": 24,
   "outputs": [],
   "source": [
    "concepts_2_relations = pd.concat([concepts_2_relations,\n",
    "                                  pd.json_normalize(concepts_2_relations['related_concepts']).add_prefix('rel_')],\n",
    "                                 axis=1)"
   ],
   "metadata": {
    "collapsed": false,
    "pycharm": {
     "name": "#%%\n"
    }
   }
  },
  {
   "cell_type": "code",
   "execution_count": 25,
   "outputs": [],
   "source": [
    "concepts_2_relations['rel_id'] = concepts_2_relations['rel_id'].str.lower()"
   ],
   "metadata": {
    "collapsed": false,
    "pycharm": {
     "name": "#%%\n"
    }
   }
  },
  {
   "cell_type": "code",
   "execution_count": 26,
   "outputs": [],
   "source": [
    "# filter out the related concepts that are not part of our set\n",
    "concepts_2_relations = concepts_2_relations[concepts_2_relations['rel_id'].isin(concepts_2['id'])]"
   ],
   "metadata": {
    "collapsed": false,
    "pycharm": {
     "name": "#%%\n"
    }
   }
  },
  {
   "cell_type": "code",
   "execution_count": 27,
   "outputs": [],
   "source": [
    "# level 1 concepts (parents) will be added to the graph\n",
    "aux = pd.DataFrame({'id': concepts_hierarchy_psych.openalex_id,\n",
    "                    'display_name': concepts_hierarchy_psych.display_name,\n",
    "                    'rel_id': concepts_hierarchy_psych.parent_ids,\n",
    "                    'rel_display_name': concepts_hierarchy_psych.parent_display_names,\n",
    "                    'rel_level': 1})"
   ],
   "metadata": {
    "collapsed": false,
    "pycharm": {
     "name": "#%%\n"
    }
   }
  },
  {
   "cell_type": "code",
   "execution_count": 28,
   "outputs": [],
   "source": [
    "concepts_2_relations = pd.concat([concepts_2_relations, aux[aux.id.isin(concepts_2_relations.id)]])"
   ],
   "metadata": {
    "collapsed": false,
    "pycharm": {
     "name": "#%%\n"
    }
   }
  },
  {
   "cell_type": "code",
   "execution_count": 29,
   "outputs": [],
   "source": [
    "concepts_2_relations.to_csv('../data/concepts_relations.csv', index=False)"
   ],
   "metadata": {
    "collapsed": false,
    "pycharm": {
     "name": "#%%\n"
    }
   }
  },
  {
   "cell_type": "code",
   "execution_count": 29,
   "outputs": [],
   "source": [],
   "metadata": {
    "collapsed": false,
    "pycharm": {
     "name": "#%%\n"
    }
   }
  }
 ],
 "metadata": {
  "kernelspec": {
   "display_name": "Python 3",
   "language": "python",
   "name": "python3"
  },
  "language_info": {
   "codemirror_mode": {
    "name": "ipython",
    "version": 2
   },
   "file_extension": ".py",
   "mimetype": "text/x-python",
   "name": "python",
   "nbconvert_exporter": "python",
   "pygments_lexer": "ipython2",
   "version": "2.7.6"
  }
 },
 "nbformat": 4,
 "nbformat_minor": 0
}