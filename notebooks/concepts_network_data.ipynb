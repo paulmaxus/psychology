{
 "cells": [
  {
   "cell_type": "code",
   "execution_count": 1,
   "metadata": {
    "pycharm": {
     "name": "#%%\n"
    }
   },
   "outputs": [],
   "source": [
    "import pandas as pd\n",
    "import json\n",
    "import config\n",
    "import glob\n",
    "import gzip"
   ]
  },
  {
   "cell_type": "markdown",
   "metadata": {
    "pycharm": {
     "name": "#%% md\n"
    }
   },
   "source": [
    "# Create concept relations table for network visualisation\n",
    "- first, find \"core\" level 2 concepts for the entire dataset (based on publication counts)\n",
    "- keep publication counts per university for color coding"
   ]
  },
  {
   "cell_type": "markdown",
   "metadata": {
    "pycharm": {
     "name": "#%% md\n"
    }
   },
   "source": [
    "## first, prepare the data"
   ]
  },
  {
   "cell_type": "code",
   "execution_count": 2,
   "metadata": {
    "pycharm": {
     "name": "#%%\n"
    }
   },
   "outputs": [],
   "source": [
    "# load publications data\n",
    "with open('../data/publications.json', 'r') as f:\n",
    "    publications = pd.DataFrame(json.loads(f.read()))"
   ]
  },
  {
   "cell_type": "code",
   "execution_count": 3,
   "metadata": {
    "pycharm": {
     "name": "#%%\n"
    }
   },
   "outputs": [],
   "source": [
    "# load concept hierarchy\n",
    "# note: concept ids are lowercase, parent ids not\n",
    "concepts_hierarchy = pd.read_csv('../openalex_concepts_hierarchy.csv')\n",
    "concepts_hierarchy['parent_ids'] = concepts_hierarchy['parent_ids'].str.lower()"
   ]
  },
  {
   "cell_type": "code",
   "execution_count": 4,
   "metadata": {
    "pycharm": {
     "name": "#%%\n"
    }
   },
   "outputs": [],
   "source": [
    "# filter on psychology concepts\n",
    "psy_id = concepts_hierarchy[concepts_hierarchy.display_name=='Psychology']['openalex_id'].iloc[0]\n",
    "psy_children = concepts_hierarchy[concepts_hierarchy.parent_ids.str.find(psy_id) > -1]\n",
    "psy_grandchildren = concepts_hierarchy[concepts_hierarchy.parent_ids.\n",
    "    apply(lambda x: any([y in psy_children['openalex_id'].values for y in x.split(', ')]) if not pd.isna(x) else False)]"
   ]
  },
  {
   "cell_type": "markdown",
   "metadata": {
    "pycharm": {
     "name": "#%% md\n"
    }
   },
   "source": [
    "## create concepts subset"
   ]
  },
  {
   "cell_type": "code",
   "execution_count": 5,
   "metadata": {
    "pycharm": {
     "name": "#%%\n"
    }
   },
   "outputs": [],
   "source": [
    "publications = publications.explode('concepts')\n",
    "publications = pd.concat([publications.reset_index(drop=True),\n",
    "                          pd.json_normalize(publications.concepts).reset_index(drop=True).rename(lambda x: 'concept.'+x, axis='columns')],\n",
    "                        axis=1)\n",
    "publications = publications.drop(columns='concepts')"
   ]
  },
  {
   "cell_type": "code",
   "execution_count": 6,
   "metadata": {
    "pycharm": {
     "name": "#%%\n"
    }
   },
   "outputs": [],
   "source": [
    "# only level 2 concepts with grandparent psychology\n",
    "publications_2 = publications.copy()[publications['concept.level']==2]\n",
    "publications_2['concept.id'] = publications_2['concept.id'].str.lower()\n",
    "publications_2 = publications_2[publications_2['concept.id'].isin(psy_grandchildren.openalex_id)]"
   ]
  },
  {
   "cell_type": "code",
   "execution_count": 7,
   "metadata": {
    "pycharm": {
     "name": "#%%\n"
    }
   },
   "outputs": [
    {
     "name": "stdout",
     "output_type": "stream",
     "text": [
      "1358 concepts in total\n",
      "50 are 4 % of total\n"
     ]
    }
   ],
   "source": [
    "# count how often each concept appears in the publication set\n",
    "# then filter using a cutoff (~50 nodes?)\n",
    "counts = publications_2.value_counts('concept.id')\n",
    "n_nodes = 50\n",
    "print(len(counts), 'concepts in total')\n",
    "print(n_nodes, 'are', round((n_nodes/len(counts))*100), '% of total')"
   ]
  },
  {
   "cell_type": "code",
   "execution_count": 8,
   "metadata": {
    "pycharm": {
     "name": "#%%\n"
    }
   },
   "outputs": [
    {
     "name": "stdout",
     "output_type": "stream",
     "text": [
      "number of nodes (concepts): 51\n"
     ]
    }
   ],
   "source": [
    "concepts_subset = list(counts.copy()[counts >= counts.quantile(1-(n_nodes/len(counts)))].index)\n",
    "print('number of nodes (concepts):', len(concepts_subset))"
   ]
  },
  {
   "cell_type": "code",
   "execution_count": 9,
   "metadata": {},
   "outputs": [],
   "source": [
    "publications_2_subset = publications_2.copy()[publications_2['concept.id'].isin(concepts_subset)]"
   ]
  },
  {
   "cell_type": "markdown",
   "metadata": {},
   "source": [
    "aggregate, but keep the counts per university for color coding"
   ]
  },
  {
   "cell_type": "code",
   "execution_count": 10,
   "metadata": {},
   "outputs": [],
   "source": [
    "# counts per university\n",
    "# NOTE: works are now counted more than once if they are shared amongst universities\n",
    "works_count = publications_2_subset.groupby(['university', 'concept.id']).agg(count=('id', 'count'))"
   ]
  },
  {
   "cell_type": "code",
   "execution_count": 11,
   "metadata": {},
   "outputs": [],
   "source": [
    "works_count.to_csv('../data/works_count.csv')"
   ]
  },
  {
   "cell_type": "markdown",
   "metadata": {},
   "source": [
    "## create concept relations table"
   ]
  },
  {
   "cell_type": "code",
   "execution_count": 12,
   "metadata": {
    "pycharm": {
     "name": "#%%\n"
    }
   },
   "outputs": [],
   "source": [
    "concepts_2 = publications_2_subset.copy()[['concept.id', 'concept.display_name', 'concept.level', 'concept.score']]\n",
    "concepts_2 = concepts_2.rename(lambda x: x.replace('concept.', ''), axis='columns')"
   ]
  },
  {
   "cell_type": "code",
   "execution_count": 13,
   "metadata": {},
   "outputs": [],
   "source": [
    "# NOTE: works are now counted more than once if they are shared amongst universities\n",
    "concepts_2['works_count'] = concepts_2.groupby(['id'])['id'].transform('size')"
   ]
  },
  {
   "cell_type": "code",
   "execution_count": 14,
   "metadata": {
    "pycharm": {
     "name": "#%%\n"
    }
   },
   "outputs": [],
   "source": [
    "concepts_2 = concepts_2.drop_duplicates('id', keep='first')"
   ]
  },
  {
   "cell_type": "code",
   "execution_count": 15,
   "metadata": {
    "pycharm": {
     "name": "#%%\n"
    }
   },
   "outputs": [
    {
     "name": "stdout",
     "output_type": "stream",
     "text": [
      "51\n"
     ]
    }
   ],
   "source": [
    "print(len(concepts_2))"
   ]
  },
  {
   "cell_type": "code",
   "execution_count": 16,
   "metadata": {
    "pycharm": {
     "name": "#%%\n"
    }
   },
   "outputs": [],
   "source": [
    "# get concept relations from data snapshot\n",
    "concepts_meta = []\n",
    "for filename in glob.glob(f'{config.project_path}/openalex-snapshot-concepts/**/*.gz', recursive=True):\n",
    "    with gzip.open(filename, 'rb') as f:\n",
    "        for line in f:\n",
    "            concepts_meta.append(json.loads(line))"
   ]
  },
  {
   "cell_type": "code",
   "execution_count": 17,
   "metadata": {
    "pycharm": {
     "name": "#%%\n"
    }
   },
   "outputs": [
    {
     "data": {
      "text/plain": "65073"
     },
     "execution_count": 17,
     "metadata": {},
     "output_type": "execute_result"
    }
   ],
   "source": [
    "len(concepts_meta)  # that's the exact amount that is stated on https://api.openalex.org/concepts"
   ]
  },
  {
   "cell_type": "code",
   "execution_count": 18,
   "metadata": {
    "pycharm": {
     "name": "#%%\n"
    }
   },
   "outputs": [],
   "source": [
    "concepts_meta_df = pd.DataFrame(concepts_meta)[['id', 'related_concepts']]\n",
    "concepts_meta_df['id'] = concepts_meta_df['id'].str.lower()"
   ]
  },
  {
   "cell_type": "code",
   "execution_count": 19,
   "metadata": {
    "pycharm": {
     "name": "#%%\n"
    }
   },
   "outputs": [],
   "source": [
    "concepts_2 = concepts_2.merge(concepts_meta_df, how='left', on='id')"
   ]
  },
  {
   "cell_type": "code",
   "execution_count": 20,
   "metadata": {
    "pycharm": {
     "name": "#%%\n"
    }
   },
   "outputs": [],
   "source": [
    "concepts_2_relations = concepts_2.copy().explode('related_concepts').reset_index(drop=True)"
   ]
  },
  {
   "cell_type": "code",
   "execution_count": 21,
   "metadata": {
    "pycharm": {
     "name": "#%%\n"
    }
   },
   "outputs": [],
   "source": [
    "concepts_2_relations = pd.concat([concepts_2_relations,\n",
    "                                  pd.json_normalize(concepts_2_relations['related_concepts']).add_prefix('rel_')],\n",
    "                                 axis=1)"
   ]
  },
  {
   "cell_type": "code",
   "execution_count": 22,
   "metadata": {
    "pycharm": {
     "name": "#%%\n"
    }
   },
   "outputs": [],
   "source": [
    "concepts_2_relations['rel_id'] = concepts_2_relations['rel_id'].str.lower()"
   ]
  },
  {
   "cell_type": "code",
   "execution_count": 23,
   "metadata": {
    "pycharm": {
     "name": "#%%\n"
    }
   },
   "outputs": [],
   "source": [
    "# filter out the related concepts that are not part of our set\n",
    "concepts_2_relations = concepts_2_relations[concepts_2_relations['rel_id'].isin(concepts_2['id'])]"
   ]
  },
  {
   "cell_type": "code",
   "execution_count": 24,
   "metadata": {},
   "outputs": [],
   "source": [
    "# level 1 concepts (parents) will be added to the graph\n",
    "parents_relations = psy_grandchildren[psy_grandchildren.openalex_id.isin(concepts_subset)].\\\n",
    "    apply(lambda x: x.str.split(', ') if x.name in ['parent_display_names', 'parent_ids'] else x).\\\n",
    "    explode(['parent_display_names', 'parent_ids'])\n",
    "parents_relations = parents_relations[parents_relations.parent_ids.isin(psy_children.openalex_id)]"
   ]
  },
  {
   "cell_type": "code",
   "execution_count": 25,
   "metadata": {
    "pycharm": {
     "name": "#%%\n"
    }
   },
   "outputs": [],
   "source": [
    "aux = pd.DataFrame({'id': parents_relations.openalex_id,\n",
    "                    'display_name': parents_relations.display_name,\n",
    "                    'rel_id': parents_relations.parent_ids,\n",
    "                    'rel_display_name': parents_relations.parent_display_names,\n",
    "                    'rel_level': 1})"
   ]
  },
  {
   "cell_type": "code",
   "execution_count": 26,
   "metadata": {
    "pycharm": {
     "name": "#%%\n"
    }
   },
   "outputs": [],
   "source": [
    "concepts_2_relations = pd.concat([concepts_2_relations, aux[aux.id.isin(concepts_2_relations.id)]])"
   ]
  },
  {
   "cell_type": "code",
   "execution_count": 27,
   "metadata": {
    "pycharm": {
     "name": "#%%\n"
    }
   },
   "outputs": [],
   "source": [
    "concepts_2_relations.to_csv('../data/concepts_relations.csv', index=False)"
   ]
  },
  {
   "cell_type": "code",
   "execution_count": 27,
   "metadata": {
    "pycharm": {
     "name": "#%%\n"
    }
   },
   "outputs": [],
   "source": []
  }
 ],
 "metadata": {
  "kernelspec": {
   "display_name": "Python 3 (ipykernel)",
   "language": "python",
   "name": "python3"
  },
  "language_info": {
   "codemirror_mode": {
    "name": "ipython",
    "version": 3
   },
   "file_extension": ".py",
   "mimetype": "text/x-python",
   "name": "python",
   "nbconvert_exporter": "python",
   "pygments_lexer": "ipython3",
   "version": "3.9.2"
  }
 },
 "nbformat": 4,
 "nbformat_minor": 1
}