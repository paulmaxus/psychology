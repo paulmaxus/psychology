{
 "cells": [
  {
   "cell_type": "code",
   "execution_count": 1,
   "metadata": {
    "collapsed": true
   },
   "outputs": [],
   "source": [
    "import pandas as pd\n",
    "from scripts.openalex_works import get_works\n",
    "import config"
   ]
  },
  {
   "cell_type": "code",
   "execution_count": 2,
   "outputs": [],
   "source": [
    "output_path = f'{config.project_path}/tables/oalex_'"
   ],
   "metadata": {
    "collapsed": false,
    "pycharm": {
     "name": "#%%\n"
    }
   }
  },
  {
   "cell_type": "code",
   "execution_count": 3,
   "outputs": [],
   "source": [
    "affiliations = pd.read_csv(f'{config.project_path}/affiliations.csv', dtype=object).applymap(lambda x: x.strip())\n",
    "# strip: making sure no whitespaces are left"
   ],
   "metadata": {
    "collapsed": false,
    "pycharm": {
     "name": "#%%\n"
    }
   }
  },
  {
   "cell_type": "markdown",
   "source": [
    "publications table"
   ],
   "metadata": {
    "collapsed": false,
    "pycharm": {
     "name": "#%% md\n"
    }
   }
  },
  {
   "cell_type": "code",
   "execution_count": 4,
   "outputs": [],
   "source": [
    "def extract_countries(work):\n",
    "    # needed for collaborations\n",
    "    work_countries = []\n",
    "    for author in work.get('authorships', []):\n",
    "        author_countries = set()\n",
    "        # set: if an author has more than 1 affiliations in a country, we count it only once\n",
    "        for institution in author.get('institutions', []):\n",
    "            author_countries.add(institution.get('country_code'))\n",
    "        work_countries.extend(author_countries)\n",
    "    return work_countries\n",
    "\n",
    "\n",
    "def extract_metadata(work):\n",
    "    publication = {\n",
    "        'id': work.get('id'),\n",
    "        'doi': work.get('doi'),\n",
    "        'title': work.get('title'),\n",
    "        'concepts': work.get('concepts'),\n",
    "        'cited_by_count': work.get('cited_by_count'),\n",
    "        'countries': extract_countries(work)\n",
    "    }\n",
    "    return publication"
   ],
   "metadata": {
    "collapsed": false,
    "pycharm": {
     "name": "#%%\n"
    }
   }
  },
  {
   "cell_type": "code",
   "execution_count": 5,
   "outputs": [],
   "source": [
    "subject_id = 'https://openalex.org/C15744967'  # psychology concept id\n",
    "year_range = range(2016, 2022)  # end year is exclusive, 2016-2022\n",
    "publications = []\n",
    "for index, row in affiliations.iterrows():\n",
    "    for year in year_range:\n",
    "        works_filter = f'authorships.institutions.ror:{row[\"ror\"]},publication_year:{year},concepts.id:{subject_id}'\n",
    "        works = get_works(works_filter)\n",
    "        for work in works:\n",
    "            pub = extract_metadata(work)\n",
    "            pub['university'] = row['university']\n",
    "            pub['year'] = year\n",
    "            publications.append(pub)"
   ],
   "metadata": {
    "collapsed": false,
    "pycharm": {
     "name": "#%%\n"
    }
   }
  },
  {
   "cell_type": "code",
   "execution_count": 6,
   "outputs": [
    {
     "data": {
      "text/plain": "30466"
     },
     "execution_count": 6,
     "metadata": {},
     "output_type": "execute_result"
    }
   ],
   "source": [
    "len(publications)"
   ],
   "metadata": {
    "collapsed": false,
    "pycharm": {
     "name": "#%%\n"
    }
   }
  },
  {
   "cell_type": "code",
   "execution_count": 10,
   "outputs": [],
   "source": [
    "import json\n",
    "with open('../data/publications.json', 'w') as f:\n",
    "    f.write(json.dumps(publications))"
   ],
   "metadata": {
    "collapsed": false,
    "pycharm": {
     "name": "#%%\n"
    }
   }
  },
  {
   "cell_type": "code",
   "execution_count": 11,
   "outputs": [],
   "source": [
    "publications_table = pd.json_normalize(publications)\n",
    "publications_table = publications_table.drop_duplicates('id').drop(columns=['university', 'concepts'])"
   ],
   "metadata": {
    "collapsed": false,
    "pycharm": {
     "name": "#%%\n"
    }
   }
  },
  {
   "cell_type": "code",
   "execution_count": 12,
   "outputs": [],
   "source": [
    "publications_table.to_csv(f'{output_path}publications.csv', index=False)"
   ],
   "metadata": {
    "collapsed": false,
    "pycharm": {
     "name": "#%%\n"
    }
   }
  },
  {
   "cell_type": "markdown",
   "source": [
    "affiliations table"
   ],
   "metadata": {
    "collapsed": false,
    "pycharm": {
     "name": "#%% md\n"
    }
   }
  },
  {
   "cell_type": "code",
   "execution_count": 13,
   "outputs": [],
   "source": [
    "pubs_affs_table = pd.json_normalize(publications)[['id', 'university']]"
   ],
   "metadata": {
    "collapsed": false,
    "pycharm": {
     "name": "#%%\n"
    }
   }
  },
  {
   "cell_type": "code",
   "execution_count": 14,
   "outputs": [],
   "source": [
    "pubs_affs_table.to_csv(f'{output_path}pubs_affs.csv', index=False)"
   ],
   "metadata": {
    "collapsed": false,
    "pycharm": {
     "name": "#%%\n"
    }
   }
  },
  {
   "cell_type": "markdown",
   "source": [
    "concepts table\n",
    "- level 1 (with parent psychology)\n",
    "- level 2 (with grandparent psychology)\n",
    "- restcategory (psychology without child)"
   ],
   "metadata": {
    "collapsed": false,
    "pycharm": {
     "name": "#%% md\n"
    }
   }
  },
  {
   "cell_type": "code",
   "execution_count": 15,
   "outputs": [],
   "source": [
    "pubs_concepts_table = pd.json_normalize(publications)[['id', 'concepts']]\n",
    "pubs_concepts_table = pubs_concepts_table.drop_duplicates('id')\n",
    "pubs_concepts_table = pubs_concepts_table.explode('concepts').reset_index(drop=True)\n",
    "pubs_concepts_table = pd.concat([pubs_concepts_table,\n",
    "                                 pd.json_normalize(pubs_concepts_table['concepts']).add_prefix('concept_')],\n",
    "                                axis=1).drop(columns='concepts')"
   ],
   "metadata": {
    "collapsed": false,
    "pycharm": {
     "name": "#%%\n"
    }
   }
  },
  {
   "cell_type": "code",
   "execution_count": 16,
   "outputs": [],
   "source": [
    "concepts_hierarchy = pd.read_csv('../openalex_concepts_hierarchy.csv')\n",
    "# concept ids are lowercase, parent ids not\n",
    "concepts_hierarchy['parent_ids'] = concepts_hierarchy['parent_ids'].str.lower()"
   ],
   "metadata": {
    "collapsed": false,
    "pycharm": {
     "name": "#%%\n"
    }
   }
  },
  {
   "cell_type": "code",
   "execution_count": 17,
   "outputs": [],
   "source": [
    "psy_children = concepts_hierarchy[concepts_hierarchy.parent_ids.str.find(subject_id.lower()) > -1]\n",
    "psy_grandchildren = concepts_hierarchy[concepts_hierarchy.parent_ids.\n",
    "    apply(lambda x: any([y in psy_children['openalex_id'].values for y in x.split(', ')]) if not pd.isna(x) else False)]"
   ],
   "metadata": {
    "collapsed": false,
    "pycharm": {
     "name": "#%%\n"
    }
   }
  },
  {
   "cell_type": "code",
   "execution_count": 20,
   "outputs": [],
   "source": [
    "pubs_concepts_table1 = pubs_concepts_table.copy()[pubs_concepts_table.concept_level==1]\n",
    "\n",
    "pubs_concepts_table1_psy = pubs_concepts_table1.copy()\\\n",
    "    [pubs_concepts_table1.concept_id.str.lower().isin(psy_children['openalex_id'])]\n",
    "\n",
    "# rest category (all publications that have level 1 concepts not related to psychology)\n",
    "pubs_concepts_table1_rest = \\\n",
    "    pubs_concepts_table1.copy()[~pubs_concepts_table1.id.isin(pubs_concepts_table1_psy['id'])]\n",
    "pubs_concepts_table1_rest['concept_display_name'] = 'REST'\n",
    "# append rest\n",
    "pubs_concepts_table1 = pd.concat([pubs_concepts_table1_psy, pubs_concepts_table1_rest])"
   ],
   "metadata": {
    "collapsed": false,
    "pycharm": {
     "name": "#%%\n"
    }
   }
  },
  {
   "cell_type": "code",
   "execution_count": 21,
   "outputs": [],
   "source": [
    "pubs_concepts_table1.to_csv(f'{output_path}pubs_concepts1.csv', index=False)"
   ],
   "metadata": {
    "collapsed": false,
    "pycharm": {
     "name": "#%%\n"
    }
   }
  },
  {
   "cell_type": "code",
   "execution_count": 22,
   "outputs": [],
   "source": [
    "pubs_concepts_table2 = pubs_concepts_table.copy()[pubs_concepts_table.concept_level==2]\n",
    "pubs_concepts_table2 = pubs_concepts_table2[pubs_concepts_table2.concept_id.str.lower().isin(psy_grandchildren['openalex_id'])]\n",
    "pubs_concepts_table2.to_csv(f'{output_path}pubs_concepts2.csv', index=False)"
   ],
   "metadata": {
    "collapsed": false,
    "pycharm": {
     "name": "#%%\n"
    }
   }
  },
  {
   "cell_type": "code",
   "execution_count": 81,
   "outputs": [],
   "source": [
    "# hierarchy table\n",
    "hierarchy = concepts_hierarchy.copy()[~pd.isna(concepts_hierarchy.parent_display_names)].\\\n",
    "    apply(lambda x: x.str.split(', ') if x.name in ['parent_display_names', 'parent_ids'] else x, axis=0).\\\n",
    "    explode(['parent_display_names'])\n",
    "hierarchy = hierarchy[hierarchy.parent_display_names.isin(psy_children.display_name)]"
   ],
   "metadata": {
    "collapsed": false,
    "pycharm": {
     "name": "#%%\n"
    }
   }
  },
  {
   "cell_type": "code",
   "execution_count": 82,
   "outputs": [],
   "source": [
    "hierarchy.to_csv(f'{output_path}concepts_hierarchy.csv', index=False)"
   ],
   "metadata": {
    "collapsed": false,
    "pycharm": {
     "name": "#%%\n"
    }
   }
  },
  {
   "cell_type": "markdown",
   "source": [
    "collaborations"
   ],
   "metadata": {
    "collapsed": false,
    "pycharm": {
     "name": "#%% md\n"
    }
   }
  },
  {
   "cell_type": "code",
   "execution_count": 23,
   "outputs": [],
   "source": [
    "from scripts.collaborations import collaborations"
   ],
   "metadata": {
    "collapsed": false,
    "pycharm": {
     "name": "#%%\n"
    }
   }
  },
  {
   "cell_type": "code",
   "execution_count": 24,
   "outputs": [],
   "source": [
    "c_data = pubs_affs_table.merge(pubs_concepts_table1, how='left', on='id').\\\n",
    "    merge(publications_table, how='left', on='id')"
   ],
   "metadata": {
    "collapsed": false,
    "pycharm": {
     "name": "#%%\n"
    }
   }
  },
  {
   "cell_type": "code",
   "execution_count": 25,
   "outputs": [
    {
     "data": {
      "text/plain": "0.055414866676597646"
     },
     "execution_count": 25,
     "metadata": {},
     "output_type": "execute_result"
    }
   ],
   "source": [
    "# how many publications have no level 1 concept? also non-psychology children are included\n",
    "len(c_data[pd.isna(c_data.concept_display_name)]['id'].unique())/len(c_data['id'].unique())"
   ],
   "metadata": {
    "collapsed": false,
    "pycharm": {
     "name": "#%%\n"
    }
   }
  },
  {
   "cell_type": "code",
   "execution_count": 26,
   "outputs": [],
   "source": [
    "c_data = c_data[~pd.isna(c_data.concept_display_name)]"
   ],
   "metadata": {
    "collapsed": false,
    "pycharm": {
     "name": "#%%\n"
    }
   }
  },
  {
   "cell_type": "code",
   "execution_count": 27,
   "outputs": [],
   "source": [
    "c_int, c_ext = collaborations(c_data, 'concept_display_name', 'university', 'id', 'countries', 'NL')"
   ],
   "metadata": {
    "collapsed": false,
    "pycharm": {
     "name": "#%%\n"
    }
   }
  },
  {
   "cell_type": "code",
   "execution_count": 28,
   "outputs": [],
   "source": [
    "pd.DataFrame(c_int).to_csv(f'{output_path}collaborations.csv', index=False)\n",
    "pd.DataFrame(c_ext).to_csv(f'{output_path}collaborations_rest.csv', index=False)"
   ],
   "metadata": {
    "collapsed": false,
    "pycharm": {
     "name": "#%%\n"
    }
   }
  },
  {
   "cell_type": "code",
   "execution_count": null,
   "outputs": [],
   "source": [],
   "metadata": {
    "collapsed": false,
    "pycharm": {
     "name": "#%%\n"
    }
   }
  }
 ],
 "metadata": {
  "kernelspec": {
   "display_name": "Python 3",
   "language": "python",
   "name": "python3"
  },
  "language_info": {
   "codemirror_mode": {
    "name": "ipython",
    "version": 2
   },
   "file_extension": ".py",
   "mimetype": "text/x-python",
   "name": "python",
   "nbconvert_exporter": "python",
   "pygments_lexer": "ipython2",
   "version": "2.7.6"
  }
 },
 "nbformat": 4,
 "nbformat_minor": 0
}