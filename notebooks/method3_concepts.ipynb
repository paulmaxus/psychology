{
 "cells": [
  {
   "cell_type": "code",
   "execution_count": 1,
   "metadata": {
    "collapsed": true
   },
   "outputs": [],
   "source": [
    "import pandas as pd\n",
    "from scripts.openalex_works import get_works\n",
    "import config"
   ]
  },
  {
   "cell_type": "code",
   "execution_count": 2,
   "outputs": [],
   "source": [
    "output_path = f'{config.project_path}/tables/oalex_'"
   ],
   "metadata": {
    "collapsed": false,
    "pycharm": {
     "name": "#%%\n"
    }
   }
  },
  {
   "cell_type": "code",
   "execution_count": 3,
   "outputs": [],
   "source": [
    "affiliations = pd.read_csv(f'{config.project_path}/affiliations.csv', dtype=object).applymap(lambda x: x.strip())\n",
    "# strip: making sure no whitespaces are left"
   ],
   "metadata": {
    "collapsed": false,
    "pycharm": {
     "name": "#%%\n"
    }
   }
  },
  {
   "cell_type": "markdown",
   "source": [
    "publications table"
   ],
   "metadata": {
    "collapsed": false,
    "pycharm": {
     "name": "#%% md\n"
    }
   }
  },
  {
   "cell_type": "code",
   "execution_count": 11,
   "outputs": [],
   "source": [
    "def extract_countries(work):\n",
    "    # needed for collaborations\n",
    "    work_countries = []\n",
    "    for author in work.get('authorships', []):\n",
    "        author_countries = set()\n",
    "        # set: if an author has more than 1 affiliations in a country, we count it only once\n",
    "        for institution in author.get('institutions', []):\n",
    "            author_countries.add(institution.get('country_code'))\n",
    "        work_countries.extend(author_countries)\n",
    "    return work_countries\n",
    "\n",
    "\n",
    "def extract_metadata(work):\n",
    "    publication = {\n",
    "        'id': work.get('id'),\n",
    "        'doi': work.get('doi'),\n",
    "        'title': work.get('title'),\n",
    "        'concepts': work.get('concepts'),\n",
    "        'cited_by_count': work.get('cited_by_count'),\n",
    "        'countries': extract_countries(work)\n",
    "    }\n",
    "    return publication"
   ],
   "metadata": {
    "collapsed": false,
    "pycharm": {
     "name": "#%%\n"
    }
   }
  },
  {
   "cell_type": "code",
   "execution_count": 15,
   "outputs": [],
   "source": [
    "subject_id = 'https://openalex.org/C15744967'  # psychology concept id\n",
    "year_range = range(2016, 2022)  # end year is exclusive, 2016-2022\n",
    "publications = []\n",
    "for index, row in affiliations.iterrows():\n",
    "    for year in year_range:\n",
    "        works_filter = f'authorships.institutions.ror:{row[\"ror\"]},publication_year:{year},concepts.id:{subject_id}'\n",
    "        works = get_works(works_filter)\n",
    "        for work in works:\n",
    "            pub = extract_metadata(work)\n",
    "            pub['university'] = row['university']\n",
    "            pub['year'] = year\n",
    "            publications.append(pub)"
   ],
   "metadata": {
    "collapsed": false,
    "pycharm": {
     "name": "#%%\n"
    }
   }
  },
  {
   "cell_type": "code",
   "execution_count": 16,
   "outputs": [
    {
     "data": {
      "text/plain": "30419"
     },
     "execution_count": 16,
     "metadata": {},
     "output_type": "execute_result"
    }
   ],
   "source": [
    "len(publications)"
   ],
   "metadata": {
    "collapsed": false,
    "pycharm": {
     "name": "#%%\n"
    }
   }
  },
  {
   "cell_type": "code",
   "execution_count": 57,
   "outputs": [],
   "source": [
    "publications_table = pd.json_normalize(publications)\n",
    "publications_table = publications_table.drop_duplicates('id').drop(columns=['university', 'concepts'])"
   ],
   "metadata": {
    "collapsed": false,
    "pycharm": {
     "name": "#%%\n"
    }
   }
  },
  {
   "cell_type": "code",
   "execution_count": 58,
   "outputs": [],
   "source": [
    "publications_table.to_csv(f'{output_path}publications.csv', index=False)"
   ],
   "metadata": {
    "collapsed": false,
    "pycharm": {
     "name": "#%%\n"
    }
   }
  },
  {
   "cell_type": "markdown",
   "source": [
    "affiliations table"
   ],
   "metadata": {
    "collapsed": false,
    "pycharm": {
     "name": "#%% md\n"
    }
   }
  },
  {
   "cell_type": "code",
   "execution_count": 19,
   "outputs": [],
   "source": [
    "pubs_affs_table = pd.json_normalize(publications)[['id', 'university']]"
   ],
   "metadata": {
    "collapsed": false,
    "pycharm": {
     "name": "#%%\n"
    }
   }
  },
  {
   "cell_type": "code",
   "execution_count": 20,
   "outputs": [],
   "source": [
    "pubs_affs_table.to_csv(f'{output_path}pubs_affs.csv', index=False)"
   ],
   "metadata": {
    "collapsed": false,
    "pycharm": {
     "name": "#%%\n"
    }
   }
  },
  {
   "cell_type": "markdown",
   "source": [
    "concepts table\n",
    "- level 1 (with parent psychology)\n",
    "- level 2 (with grandparent psychology)\n",
    "- restcategory (psychology without child)"
   ],
   "metadata": {
    "collapsed": false,
    "pycharm": {
     "name": "#%% md\n"
    }
   }
  },
  {
   "cell_type": "code",
   "execution_count": 40,
   "outputs": [],
   "source": [
    "pubs_concepts_table = pd.json_normalize(publications)[['id', 'concepts']]\n",
    "pubs_concepts_table = pubs_concepts_table.drop_duplicates('id')\n",
    "pubs_concepts_table = pubs_concepts_table.explode('concepts').reset_index(drop=True)\n",
    "pubs_concepts_table = pd.concat([pubs_concepts_table,\n",
    "                                 pd.json_normalize(pubs_concepts_table['concepts']).add_prefix('concept_')],\n",
    "                                axis=1).drop(columns='concepts')"
   ],
   "metadata": {
    "collapsed": false,
    "pycharm": {
     "name": "#%%\n"
    }
   }
  },
  {
   "cell_type": "code",
   "execution_count": 42,
   "outputs": [],
   "source": [
    "concepts_hierarchy = pd.read_csv('../openalex_concepts_hierarchy.csv')\n",
    "# concept ids are lowercase, parent ids not\n",
    "concepts_hierarchy['parent_ids'] = concepts_hierarchy['parent_ids'].str.lower()"
   ],
   "metadata": {
    "collapsed": false,
    "pycharm": {
     "name": "#%%\n"
    }
   }
  },
  {
   "cell_type": "code",
   "execution_count": 101,
   "outputs": [],
   "source": [
    "psy_children = concepts_hierarchy[concepts_hierarchy.parent_ids.str.find(subject_id.lower()) > -1]\n",
    "psy_grandchildren = concepts_hierarchy[concepts_hierarchy.parent_ids.\n",
    "    apply(lambda x: any([y in psy_children['openalex_id'].values for y in x.split(', ')]) if not pd.isna(x) else False)]"
   ],
   "metadata": {
    "collapsed": false,
    "pycharm": {
     "name": "#%%\n"
    }
   }
  },
  {
   "cell_type": "code",
   "execution_count": 104,
   "outputs": [],
   "source": [
    "pubs_concepts_table1 = pubs_concepts_table.copy()[pubs_concepts_table.concept_level==1]\n",
    "\n",
    "# rest category (all remaining level 1 concepts)\n",
    "pubs_concepts_table1_rest = \\\n",
    "    pubs_concepts_table1.copy()[~pubs_concepts_table1.concept_id.str.lower().isin(psy_children['openalex_id'])]\n",
    "pubs_concepts_table1_rest['concept_display_name'] = 'REST'\n",
    "\n",
    "pubs_concepts_table1 = pubs_concepts_table1[pubs_concepts_table1.concept_id.str.lower().isin(psy_children['openalex_id'])]\n",
    "# append rest\n",
    "pubs_concepts_table1 = pd.concat([pubs_concepts_table1, pubs_concepts_table1_rest])"
   ],
   "metadata": {
    "collapsed": false,
    "pycharm": {
     "name": "#%%\n"
    }
   }
  },
  {
   "cell_type": "code",
   "execution_count": 106,
   "outputs": [],
   "source": [
    "pubs_concepts_table1.to_csv(f'{output_path}pubs_concepts1.csv', index=False)"
   ],
   "metadata": {
    "collapsed": false,
    "pycharm": {
     "name": "#%%\n"
    }
   }
  },
  {
   "cell_type": "code",
   "execution_count": 107,
   "outputs": [],
   "source": [
    "pubs_concepts_table2 = pubs_concepts_table.copy()[pubs_concepts_table.concept_level==2]\n",
    "pubs_concepts_table2 = pubs_concepts_table2[pubs_concepts_table2.concept_id.str.lower().isin(psy_grandchildren['openalex_id'])]\n",
    "pubs_concepts_table2.to_csv(f'{output_path}pubs_concepts2.csv', index=False)"
   ],
   "metadata": {
    "collapsed": false,
    "pycharm": {
     "name": "#%%\n"
    }
   }
  },
  {
   "cell_type": "markdown",
   "source": [
    "collaborations"
   ],
   "metadata": {
    "collapsed": false,
    "pycharm": {
     "name": "#%% md\n"
    }
   }
  },
  {
   "cell_type": "code",
   "execution_count": 108,
   "outputs": [],
   "source": [
    "from scripts.collaborations import collaborations"
   ],
   "metadata": {
    "collapsed": false,
    "pycharm": {
     "name": "#%%\n"
    }
   }
  },
  {
   "cell_type": "code",
   "execution_count": 110,
   "outputs": [],
   "source": [
    "c_data = pubs_affs_table.merge(pubs_concepts_table1, how='left', on='id').\\\n",
    "    merge(publications_table, how='left', on='id')"
   ],
   "metadata": {
    "collapsed": false,
    "pycharm": {
     "name": "#%%\n"
    }
   }
  },
  {
   "cell_type": "code",
   "execution_count": 112,
   "outputs": [
    {
     "data": {
      "text/plain": "0.05504587155963303"
     },
     "execution_count": 112,
     "metadata": {},
     "output_type": "execute_result"
    }
   ],
   "source": [
    "# how many publications have no level 1 concept? also non-psychology children are included\n",
    "len(c_data[pd.isna(c_data.concept_display_name)]['id'].unique())/len(c_data['id'].unique())"
   ],
   "metadata": {
    "collapsed": false,
    "pycharm": {
     "name": "#%%\n"
    }
   }
  },
  {
   "cell_type": "code",
   "execution_count": 113,
   "outputs": [],
   "source": [
    "c_data = c_data[~pd.isna(c_data.concept_display_name)]"
   ],
   "metadata": {
    "collapsed": false,
    "pycharm": {
     "name": "#%%\n"
    }
   }
  },
  {
   "cell_type": "code",
   "execution_count": 114,
   "outputs": [],
   "source": [
    "c_int, c_ext = collaborations(c_data, 'concept_display_name', 'university', 'id', 'countries', 'NL')"
   ],
   "metadata": {
    "collapsed": false,
    "pycharm": {
     "name": "#%%\n"
    }
   }
  },
  {
   "cell_type": "code",
   "execution_count": 115,
   "outputs": [],
   "source": [
    "pd.DataFrame(c_int).to_csv(f'{output_path}collaborations.csv', index=False)\n",
    "pd.DataFrame(c_ext).to_csv(f'{output_path}collaborations_rest.csv', index=False)"
   ],
   "metadata": {
    "collapsed": false,
    "pycharm": {
     "name": "#%%\n"
    }
   }
  },
  {
   "cell_type": "code",
   "execution_count": null,
   "outputs": [],
   "source": [],
   "metadata": {
    "collapsed": false,
    "pycharm": {
     "name": "#%%\n"
    }
   }
  }
 ],
 "metadata": {
  "kernelspec": {
   "display_name": "Python 3",
   "language": "python",
   "name": "python3"
  },
  "language_info": {
   "codemirror_mode": {
    "name": "ipython",
    "version": 2
   },
   "file_extension": ".py",
   "mimetype": "text/x-python",
   "name": "python",
   "nbconvert_exporter": "python",
   "pygments_lexer": "ipython2",
   "version": "2.7.6"
  }
 },
 "nbformat": 4,
 "nbformat_minor": 0
}